{
 "cells": [
  {
   "cell_type": "code",
   "execution_count": 8,
   "metadata": {},
   "outputs": [],
   "source": [
    "from datetime import datetime  # Import the datetime class from the datetime module"
   ]
  },
  {
   "cell_type": "code",
   "execution_count": 15,
   "metadata": {},
   "outputs": [
    {
     "ename": "OSError",
     "evalue": "'seaborn' is not a valid package style, path of style file, URL of style file, or library style name (library styles are listed in `style.available`)",
     "output_type": "error",
     "traceback": [
      "\u001b[1;31m---------------------------------------------------------------------------\u001b[0m",
      "\u001b[1;31mFileNotFoundError\u001b[0m                         Traceback (most recent call last)",
      "File \u001b[1;32mc:\\Users\\javie\\AppData\\Local\\Programs\\Python\\Python39\\lib\\site-packages\\matplotlib\\style\\core.py:137\u001b[0m, in \u001b[0;36muse\u001b[1;34m(style)\u001b[0m\n\u001b[0;32m    136\u001b[0m \u001b[38;5;28;01mtry\u001b[39;00m:\n\u001b[1;32m--> 137\u001b[0m     style \u001b[38;5;241m=\u001b[39m \u001b[43m_rc_params_in_file\u001b[49m\u001b[43m(\u001b[49m\u001b[43mstyle\u001b[49m\u001b[43m)\u001b[49m\n\u001b[0;32m    138\u001b[0m \u001b[38;5;28;01mexcept\u001b[39;00m \u001b[38;5;167;01mOSError\u001b[39;00m \u001b[38;5;28;01mas\u001b[39;00m err:\n",
      "File \u001b[1;32mc:\\Users\\javie\\AppData\\Local\\Programs\\Python\\Python39\\lib\\site-packages\\matplotlib\\__init__.py:893\u001b[0m, in \u001b[0;36m_rc_params_in_file\u001b[1;34m(fname, transform, fail_on_error)\u001b[0m\n\u001b[0;32m    892\u001b[0m rc_temp \u001b[38;5;241m=\u001b[39m {}\n\u001b[1;32m--> 893\u001b[0m \u001b[38;5;28;01mwith\u001b[39;00m _open_file_or_url(fname) \u001b[38;5;28;01mas\u001b[39;00m fd:\n\u001b[0;32m    894\u001b[0m     \u001b[38;5;28;01mtry\u001b[39;00m:\n",
      "File \u001b[1;32mc:\\Users\\javie\\AppData\\Local\\Programs\\Python\\Python39\\lib\\contextlib.py:119\u001b[0m, in \u001b[0;36m_GeneratorContextManager.__enter__\u001b[1;34m(self)\u001b[0m\n\u001b[0;32m    118\u001b[0m \u001b[38;5;28;01mtry\u001b[39;00m:\n\u001b[1;32m--> 119\u001b[0m     \u001b[38;5;28;01mreturn\u001b[39;00m \u001b[38;5;28;43mnext\u001b[39;49m\u001b[43m(\u001b[49m\u001b[38;5;28;43mself\u001b[39;49m\u001b[38;5;241;43m.\u001b[39;49m\u001b[43mgen\u001b[49m\u001b[43m)\u001b[49m\n\u001b[0;32m    120\u001b[0m \u001b[38;5;28;01mexcept\u001b[39;00m \u001b[38;5;167;01mStopIteration\u001b[39;00m:\n",
      "File \u001b[1;32mc:\\Users\\javie\\AppData\\Local\\Programs\\Python\\Python39\\lib\\site-packages\\matplotlib\\__init__.py:870\u001b[0m, in \u001b[0;36m_open_file_or_url\u001b[1;34m(fname)\u001b[0m\n\u001b[0;32m    869\u001b[0m fname \u001b[38;5;241m=\u001b[39m os\u001b[38;5;241m.\u001b[39mpath\u001b[38;5;241m.\u001b[39mexpanduser(fname)\n\u001b[1;32m--> 870\u001b[0m \u001b[38;5;28;01mwith\u001b[39;00m \u001b[38;5;28;43mopen\u001b[39;49m\u001b[43m(\u001b[49m\u001b[43mfname\u001b[49m\u001b[43m,\u001b[49m\u001b[43m \u001b[49m\u001b[43mencoding\u001b[49m\u001b[38;5;241;43m=\u001b[39;49m\u001b[38;5;124;43m'\u001b[39;49m\u001b[38;5;124;43mutf-8\u001b[39;49m\u001b[38;5;124;43m'\u001b[39;49m\u001b[43m)\u001b[49m \u001b[38;5;28;01mas\u001b[39;00m f:\n\u001b[0;32m    871\u001b[0m     \u001b[38;5;28;01myield\u001b[39;00m f\n",
      "\u001b[1;31mFileNotFoundError\u001b[0m: [Errno 2] No such file or directory: 'seaborn'",
      "\nThe above exception was the direct cause of the following exception:\n",
      "\u001b[1;31mOSError\u001b[0m                                   Traceback (most recent call last)",
      "Cell \u001b[1;32mIn[15], line 14\u001b[0m\n\u001b[0;32m     12\u001b[0m \u001b[38;5;28;01mimport\u001b[39;00m \u001b[38;5;21;01mmath\u001b[39;00m\n\u001b[0;32m     13\u001b[0m \u001b[38;5;28;01mimport\u001b[39;00m \u001b[38;5;21;01mmatplotlib\u001b[39;00m\u001b[38;5;21;01m.\u001b[39;00m\u001b[38;5;21;01mpyplot\u001b[39;00m \u001b[38;5;28;01mas\u001b[39;00m \u001b[38;5;21;01mplt\u001b[39;00m\n\u001b[1;32m---> 14\u001b[0m \u001b[43mplt\u001b[49m\u001b[38;5;241;43m.\u001b[39;49m\u001b[43mstyle\u001b[49m\u001b[38;5;241;43m.\u001b[39;49m\u001b[43muse\u001b[49m\u001b[43m(\u001b[49m\u001b[38;5;124;43m'\u001b[39;49m\u001b[38;5;124;43mseaborn\u001b[39;49m\u001b[38;5;124;43m'\u001b[39;49m\u001b[43m)\u001b[49m\n\u001b[0;32m     15\u001b[0m \u001b[38;5;28;01mfrom\u001b[39;00m \u001b[38;5;21;01mdatetime\u001b[39;00m \u001b[38;5;28;01mimport\u001b[39;00m datetime\n\u001b[0;32m     17\u001b[0m \u001b[38;5;66;03m#For reproducability\u001b[39;00m\n",
      "File \u001b[1;32mc:\\Users\\javie\\AppData\\Local\\Programs\\Python\\Python39\\lib\\site-packages\\matplotlib\\style\\core.py:139\u001b[0m, in \u001b[0;36muse\u001b[1;34m(style)\u001b[0m\n\u001b[0;32m    137\u001b[0m         style \u001b[38;5;241m=\u001b[39m _rc_params_in_file(style)\n\u001b[0;32m    138\u001b[0m     \u001b[38;5;28;01mexcept\u001b[39;00m \u001b[38;5;167;01mOSError\u001b[39;00m \u001b[38;5;28;01mas\u001b[39;00m err:\n\u001b[1;32m--> 139\u001b[0m         \u001b[38;5;28;01mraise\u001b[39;00m \u001b[38;5;167;01mOSError\u001b[39;00m(\n\u001b[0;32m    140\u001b[0m             \u001b[38;5;124mf\u001b[39m\u001b[38;5;124m\"\u001b[39m\u001b[38;5;132;01m{\u001b[39;00mstyle\u001b[38;5;132;01m!r}\u001b[39;00m\u001b[38;5;124m is not a valid package style, path of style \u001b[39m\u001b[38;5;124m\"\u001b[39m\n\u001b[0;32m    141\u001b[0m             \u001b[38;5;124mf\u001b[39m\u001b[38;5;124m\"\u001b[39m\u001b[38;5;124mfile, URL of style file, or library style name (library \u001b[39m\u001b[38;5;124m\"\u001b[39m\n\u001b[0;32m    142\u001b[0m             \u001b[38;5;124mf\u001b[39m\u001b[38;5;124m\"\u001b[39m\u001b[38;5;124mstyles are listed in `style.available`)\u001b[39m\u001b[38;5;124m\"\u001b[39m) \u001b[38;5;28;01mfrom\u001b[39;00m \u001b[38;5;21;01merr\u001b[39;00m\n\u001b[0;32m    143\u001b[0m filtered \u001b[38;5;241m=\u001b[39m {}\n\u001b[0;32m    144\u001b[0m \u001b[38;5;28;01mfor\u001b[39;00m k \u001b[38;5;129;01min\u001b[39;00m style:  \u001b[38;5;66;03m# don't trigger RcParams.__getitem__('backend')\u001b[39;00m\n",
      "\u001b[1;31mOSError\u001b[0m: 'seaborn' is not a valid package style, path of style file, URL of style file, or library style name (library styles are listed in `style.available`)"
     ]
    }
   ],
   "source": [
    "\n",
    "from yahoofinancials import YahooFinancials\n",
    "import numpy as np\n",
    "import tensorflow as tf\n",
    "from tensorflow import keras\n",
    "from tensorflow.keras import layers\n",
    "from keras.layers import Flatten\n",
    "from keras import backend as K\n",
    "from sklearn.preprocessing import MinMaxScaler\n",
    "from sklearn.metrics import mean_squared_error\n",
    "import sqlite3\n",
    "import pandas as pd\n",
    "import math\n",
    "import matplotlib.pyplot as plt\n",
    "# plt.style.use('seaborn')\n",
    "from datetime import datetime\n",
    "\n",
    "#For reproducability\n",
    "from numpy.random import seed\n",
    "seed(1)\n",
    "tf.random.set_seed(2)\n",
    "\n",
    "# Some functions to help out with\n",
    "def plot_predictions(test,predicted,symbol):\n",
    "    plt.plot(test, color='red',label=f'Real {symbol} Stock Price')\n",
    "    plt.plot(predicted, color='blue',label=f'Predicted {symbol} Stock Price')\n",
    "    plt.title(f'{symbol} Stock Price Prediction')\n",
    "    plt.xlabel('Time')\n",
    "    plt.ylabel(f'{symbol} Stock Price')\n",
    "    plt.legend()\n",
    "    plt.show()\n",
    "\n",
    "def plot_return_predictions(test,predicted,symbol):\n",
    "    plt.plot(test, color='red',label=f'Real {symbol} Stock Price Returns')\n",
    "    plt.plot(predicted, color='blue',label=f'Predicted {symbol} Stock Price Return')\n",
    "    plt.title(f'{symbol} Stock Return Prediction')\n",
    "    plt.xlabel('Time')\n",
    "    plt.ylabel(f'{symbol} Stock Price Returns')\n",
    "    plt.legend()\n",
    "    plt.show()\n",
    "    \n",
    "def return_rmse(test,predicted):\n",
    "    rmse = math.sqrt(mean_squared_error(test, predicted))\n",
    "    print(\"The root mean squared error is {}.\".format(rmse))\n",
    "    return rmse\n",
    "\n",
    "def get_ticker_data(ticker: str, param_start_date, param_end_date) -> dict:\n",
    "    raw_data = YahooFinancials(ticker)\n",
    "    return raw_data.get_historical_price_data(param_start_date, param_end_date, \"daily\").copy()\n",
    "\n",
    "def fetch_ticker_data(ticker: str, start_date, end_date) -> pd.DataFrame:\n",
    "    date_range = pd.bdate_range(start=start_date, end=end_date)\n",
    "    values = pd.DataFrame({'Date': date_range})\n",
    "    values['Date'] = pd.to_datetime(values['Date'])\n",
    "    raw_data = get_ticker_data(ticker, start_date, end_date)\n",
    "    return pd.DataFrame(raw_data[ticker][\"prices\"])[['date', 'open', 'high', 'low', 'adjclose', 'volume']]\n",
    "\n",
    "def shift(xs, n):\n",
    "    e = np.empty_like(xs)\n",
    "    if n >= 0:\n",
    "        e[:n] = np.nan\n",
    "        e[n:] = xs[:-n]\n",
    "    else:\n",
    "        e[n:] = np.nan\n",
    "        e[:n] = xs[-n:]\n",
    "    return e\n",
    "\n",
    "#Scaled Exponentially-Regularized Linear Unit to try out - if anyone can make this work, let me know.\n",
    "\n",
    "# def serlu(x, lambdaa=1.07862, alphaa=2.90427):\n",
    "#     result = tf.cond(x >= 0, lambda: tf.math.multiply(lambdaa, x), lambda: tf.math.multiply(lambdaa, alphaa, x, tf.exp(x)))\n",
    "#     return result"
   ]
  },
  {
   "cell_type": "code",
   "execution_count": null,
   "metadata": {},
   "outputs": [
    {
     "ename": "NameError",
     "evalue": "name 'stock' is not defined",
     "output_type": "error",
     "traceback": [
      "\u001b[1;31m---------------------------------------------------------------------------\u001b[0m",
      "\u001b[1;31mNameError\u001b[0m                                 Traceback (most recent call last)",
      "Cell \u001b[1;32mIn[5], line 1\u001b[0m\n\u001b[1;32m----> 1\u001b[0m \u001b[43mstock\u001b[49m[target][train_start_date:train_end_date]\u001b[38;5;241m.\u001b[39mplot(figsize\u001b[38;5;241m=\u001b[39m(\u001b[38;5;241m16\u001b[39m,\u001b[38;5;241m4\u001b[39m),legend\u001b[38;5;241m=\u001b[39m\u001b[38;5;28;01mTrue\u001b[39;00m)\n\u001b[0;32m      2\u001b[0m stock[target][test_start_date:]\u001b[38;5;241m.\u001b[39mplot(figsize\u001b[38;5;241m=\u001b[39m(\u001b[38;5;241m16\u001b[39m,\u001b[38;5;241m4\u001b[39m),legend\u001b[38;5;241m=\u001b[39m\u001b[38;5;28;01mTrue\u001b[39;00m)\n\u001b[0;32m      3\u001b[0m plt\u001b[38;5;241m.\u001b[39mlegend([\u001b[38;5;124mf\u001b[39m\u001b[38;5;124m'\u001b[39m\u001b[38;5;124mTraining set (Before \u001b[39m\u001b[38;5;132;01m{\u001b[39;00mtrain_end_date\u001b[38;5;132;01m}\u001b[39;00m\u001b[38;5;124m)\u001b[39m\u001b[38;5;124m'\u001b[39m,\u001b[38;5;124mf\u001b[39m\u001b[38;5;124m'\u001b[39m\u001b[38;5;124mTest set (\u001b[39m\u001b[38;5;132;01m{\u001b[39;00mtest_start_date\u001b[38;5;132;01m}\u001b[39;00m\u001b[38;5;124m and beyond)\u001b[39m\u001b[38;5;124m'\u001b[39m])\n",
      "\u001b[1;31mNameError\u001b[0m: name 'stock' is not defined"
     ]
    }
   ],
   "source": [
    "# # Choose a stock symbol\n",
    "symbol_to_fetch = 'IBM'\n",
    "# Choose a date range\n",
    "start_date = '2020-01-01'\n",
    "end_date = datetime.now().strftime('%Y-%m-%d')\n",
    "# Get Stock Price Data\n",
    "stock = fetch_ticker_data(symbol_to_fetch, start_date, end_date)\n",
    "stock.columns = ['DateTime', 'Open', 'High', 'Low', 'Close', 'Volume']\n",
    "stock['DateTime'] = stock['DateTime'].apply(lambda x: datetime.fromtimestamp(x))\n",
    "stock = stock.fillna(method=\"ffill\", axis=0)\n",
    "stock = stock.fillna(method=\"bfill\", axis=0)\n",
    "stock = stock.set_index('DateTime')\n",
    "# stock['return'] = stock['Close'].pct_change(1)\n",
    "# for i in stock.index[1:]:\n",
    "#     if (stock['return'].iloc[i] > 0 and stock['return'].iloc[i-1] < 0) or (stock['return'].iloc[i] < 0 and stock['return'].iloc[i-1] > 0):\n",
    "#         stock['reversal'].iloc[i] = 1\n",
    "#     else:\n",
    "#         stock['reversal'].iloc[i] = 0\n",
    "stock['Symbol'] = symbol_to_fetch\n",
    "stock.tail()\n",
    "#save a copy for later testing\n",
    "original_stock = stock\n",
    "original_symbol = symbol_to_fetch\n",
    "\n",
    "stock['Close'].tail()"
   ]
  },
  {
   "cell_type": "code",
   "execution_count": null,
   "metadata": {},
   "outputs": [],
   "source": [
    "# Choose a stock symbol\n",
    "symbol_to_fetch = 'IBM'\n",
    "# Choose a date range\n",
    "start_date = str(datetime(2017, 1, 1).date())\n",
    "end_date = str(datetime(2021, 2, 18).date())\n",
    "# end_date = datetime.now().strftime('%Y-%m-%d')"
   ]
  },
  {
   "cell_type": "code",
   "execution_count": null,
   "metadata": {},
   "outputs": [],
   "source": [
    "# We have chosen the target as 'Close' attribute for prices. Let's see what it looks like\n",
    "target = 'Close' # this is accessed by .iloc[:,3:4].values below\n",
    "train_start_date = start_date\n",
    "train_end_date = '2021-10-31'\n",
    "test_start_date = '2021-11-01'\n",
    "training_set = stock[train_start_date:train_end_date].iloc[:,3:4].values \n",
    "test_set = stock[test_start_date:].iloc[:,3:4].values\n",
    "\n",
    "test_set_return = stock[test_start_date:].iloc[:,3:4].pct_change().values\n",
    "#log_return_test = np.log(test_set_return)\n",
    "\n",
    "print(training_set.shape)\n",
    "print(test_set.shape)"
   ]
  },
  {
   "cell_type": "code",
   "execution_count": null,
   "metadata": {},
   "outputs": [],
   "source": [
    "stock[target][train_start_date:train_end_date].plot(figsize=(16,4),legend=True)\n",
    "stock[target][test_start_date:].plot(figsize=(16,4),legend=True)\n",
    "plt.legend([f'Training set (Before {train_end_date})',f'Test set ({test_start_date} and beyond)'])\n",
    "plt.title(f'{symbol_to_fetch} stock price')\n",
    "plt.show()"
   ]
  }
 ],
 "metadata": {
  "kernelspec": {
   "display_name": "Python 3",
   "language": "python",
   "name": "python3"
  },
  "language_info": {
   "codemirror_mode": {
    "name": "ipython",
    "version": 3
   },
   "file_extension": ".py",
   "mimetype": "text/x-python",
   "name": "python",
   "nbconvert_exporter": "python",
   "pygments_lexer": "ipython3",
   "version": "3.9.13"
  }
 },
 "nbformat": 4,
 "nbformat_minor": 2
}
